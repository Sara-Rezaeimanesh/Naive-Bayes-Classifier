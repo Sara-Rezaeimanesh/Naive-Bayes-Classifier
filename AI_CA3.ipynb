{
 "cells": [
  {
   "cell_type": "markdown",
   "metadata": {},
   "source": [
    "<div dir=\"rtl\">\n",
    "<h4>نام: سارا رضایی منش</h4>\n",
    " \n",
    "<h4>شماره دانشجویی: ۸۱۰۱۹۸۵۷۶</h4>\n",
    "<h1 style=\"color: #cf133e; font-weight: 600;\">تمرین کامپیوتری شماره سه</h1>\n",
    "<h3>هدف پروژه: استفاده از داده های آماری برای تمرین دادن هوش مصنوعی برای دسته بندی کردن صحیح داده های جدید با استفاده از naive bayes</h3>\n",
    "<h5 style=\"line-height: 20pt;\">توضیح کلی پروژه: در این پروژه ابتدا در پیش پردازش داده های خود را نرمالایز کردیم و ایست واژه ها را حذف کردیم. سپس با استفاده از روش های مختلف، داده های تست را طبقه بندی می کنیم. در مرحله بعد میزان درستی این روش ها را در طبقه بندی داده ها مقایسه کرده و آنها را با هم مقایسه می کنیم. با استفاده از نتایج بدست آمده می توان دقت محاسبات را با پیش پردازش های مختلف افزایش داد. به عنوان مثال پس از رسم پلات ها، متوجه می شویم که حذف کلماتی که در همه کلاسها پر تکرار هستند می تواند به دقت محاسبات کمک بکند.</h5>\n",
    "</div>"
   ]
  },
  {
   "cell_type": "markdown",
   "metadata": {},
   "source": [
    "<h2 dir=\"rtl\" style=\"color: #cf133e; font-weight: 600;\">فاز اول: پیش پردازش داده ها</h2>\n",
    "<h4 dir=\"rtl\" style=\"font-weight: 600;\">خواندن فایل ها</h4>"
   ]
  },
  {
   "cell_type": "code",
   "execution_count": 401,
   "metadata": {},
   "outputs": [
    {
     "data": {
      "text/html": [
       "<div>\n",
       "<style scoped>\n",
       "    .dataframe tbody tr th:only-of-type {\n",
       "        vertical-align: middle;\n",
       "    }\n",
       "\n",
       "    .dataframe tbody tr th {\n",
       "        vertical-align: top;\n",
       "    }\n",
       "\n",
       "    .dataframe thead th {\n",
       "        text-align: right;\n",
       "    }\n",
       "</style>\n",
       "<table border=\"1\" class=\"dataframe\">\n",
       "  <thead>\n",
       "    <tr style=\"text-align: right;\">\n",
       "      <th></th>\n",
       "      <th>title</th>\n",
       "      <th>description</th>\n",
       "      <th>categories</th>\n",
       "    </tr>\n",
       "  </thead>\n",
       "  <tbody>\n",
       "    <tr>\n",
       "      <th>0</th>\n",
       "      <td>بلبل خرمایی</td>\n",
       "      <td>سه عدد بلبل خرمایی سه ماهه.از وقتی جوجه بودن خ...</td>\n",
       "      <td>leisure-hobbies</td>\n",
       "    </tr>\n",
       "    <tr>\n",
       "      <th>1</th>\n",
       "      <td>عینک اسکی در حد</td>\n",
       "      <td>عینک اسکی دبل لنز مارک يو وكس  در حد نو اصلی م...</td>\n",
       "      <td>leisure-hobbies</td>\n",
       "    </tr>\n",
       "    <tr>\n",
       "      <th>2</th>\n",
       "      <td>تکیه سر تویوتا پرادو</td>\n",
       "      <td>پارچه ای سالم و تمیز.</td>\n",
       "      <td>vehicles</td>\n",
       "    </tr>\n",
       "    <tr>\n",
       "      <th>3</th>\n",
       "      <td>مجسمه کریستال24%</td>\n",
       "      <td>مجسمه دکوری کریستال بالرین Rcr24%</td>\n",
       "      <td>for-the-home</td>\n",
       "    </tr>\n",
       "    <tr>\n",
       "      <th>4</th>\n",
       "      <td>کیف و ساک</td>\n",
       "      <td>هر 2 کاملا تمیز هستند</td>\n",
       "      <td>personal</td>\n",
       "    </tr>\n",
       "  </tbody>\n",
       "</table>\n",
       "</div>"
      ],
      "text/plain": [
       "                  title                                        description  \\\n",
       "0           بلبل خرمایی  سه عدد بلبل خرمایی سه ماهه.از وقتی جوجه بودن خ...   \n",
       "1       عینک اسکی در حد  عینک اسکی دبل لنز مارک يو وكس  در حد نو اصلی م...   \n",
       "2  تکیه سر تویوتا پرادو                              پارچه ای سالم و تمیز.   \n",
       "3      مجسمه کریستال24%                  مجسمه دکوری کریستال بالرین Rcr24%   \n",
       "4             کیف و ساک                              هر 2 کاملا تمیز هستند   \n",
       "\n",
       "        categories  \n",
       "0  leisure-hobbies  \n",
       "1  leisure-hobbies  \n",
       "2         vehicles  \n",
       "3     for-the-home  \n",
       "4         personal  "
      ]
     },
     "execution_count": 401,
     "metadata": {},
     "output_type": "execute_result"
    }
   ],
   "source": [
    "from __future__ import unicode_literals\n",
    "import pandas as pd\n",
    "import parsivar\n",
    "import copy\n",
    "import hazm\n",
    "import matplotlib.pyplot as plt\n",
    "\n",
    "words_dict_train =\t{\n",
    "  'vehicles': [],\n",
    "  'electronic-devices': [],\n",
    "  'businesses': [],\n",
    "  'for-the-home': [],\n",
    "  'leisure-hobbies': [],\n",
    "  'personal': []\n",
    "}\n",
    "\n",
    "words_dict_test =\t{\n",
    "  'vehicles': [],\n",
    "  'electronic-devices': [],\n",
    "  'businesses': [],\n",
    "  'for-the-home': [],\n",
    "  'leisure-hobbies': [],\n",
    "  'personal': []\n",
    "}\n",
    "\n",
    "class_count =\t{\n",
    "  'vehicles': 0, 'electronic-devices': 0, 'businesses': 0, 'for-the-home': 0,\n",
    "  'leisure-hobbies': 0, 'personal': 0, 'sum': 0\n",
    "}\n",
    "\n",
    "words_count =\t{\n",
    "  'vehicles': 0, 'electronic-devices': 0, 'businesses': 0, 'for-the-home': 0,\n",
    "  'leisure-hobbies': 0, 'personal': 0\n",
    "}\n",
    "\n",
    "stop_words = set(hazm.stopwords_list(\"./persian_stopwords.txt\"))\n",
    "\n",
    "train = pd.read_csv('./divar_data/Data/divar_train.csv')\n",
    "test = pd.read_csv('./divar_data/Data/divar_test.csv')\n",
    "test_tokenized_title = [[]]*len(test['title'])\n",
    "test_tokenized_desc = [[]]*len(test['description'])\n",
    "\n",
    "train.head()"
   ]
  },
  {
   "cell_type": "code",
   "execution_count": 402,
   "metadata": {},
   "outputs": [
    {
     "data": {
      "text/html": [
       "<div>\n",
       "<style scoped>\n",
       "    .dataframe tbody tr th:only-of-type {\n",
       "        vertical-align: middle;\n",
       "    }\n",
       "\n",
       "    .dataframe tbody tr th {\n",
       "        vertical-align: top;\n",
       "    }\n",
       "\n",
       "    .dataframe thead th {\n",
       "        text-align: right;\n",
       "    }\n",
       "</style>\n",
       "<table border=\"1\" class=\"dataframe\">\n",
       "  <thead>\n",
       "    <tr style=\"text-align: right;\">\n",
       "      <th></th>\n",
       "      <th>title</th>\n",
       "      <th>description</th>\n",
       "      <th>categories</th>\n",
       "    </tr>\n",
       "  </thead>\n",
       "  <tbody>\n",
       "    <tr>\n",
       "      <th>0</th>\n",
       "      <td>کیف مجلسی نو</td>\n",
       "      <td>کیف مجلسی نوی نو</td>\n",
       "      <td>personal</td>\n",
       "    </tr>\n",
       "    <tr>\n",
       "      <th>1</th>\n",
       "      <td>دیوار کوب نمدی تزیینی</td>\n",
       "      <td>مناسب برای جهاز عروس</td>\n",
       "      <td>for-the-home</td>\n",
       "    </tr>\n",
       "    <tr>\n",
       "      <th>2</th>\n",
       "      <td>دو تیکه بسیار بسیار تمیز و سالم</td>\n",
       "      <td>با کشوی مخفی و شیک</td>\n",
       "      <td>for-the-home</td>\n",
       "    </tr>\n",
       "    <tr>\n",
       "      <th>3</th>\n",
       "      <td>مودم</td>\n",
       "      <td>سلام مودم سالم با وسایلش،دیگه ب کارم نمیاد \\nم...</td>\n",
       "      <td>electronic-devices</td>\n",
       "    </tr>\n",
       "    <tr>\n",
       "      <th>4</th>\n",
       "      <td>تعداد18عددبوقلمون به قیمت عمده</td>\n",
       "      <td>سلام تعدای بوقلمون دارم به علت جابه جایی به فر...</td>\n",
       "      <td>leisure-hobbies</td>\n",
       "    </tr>\n",
       "  </tbody>\n",
       "</table>\n",
       "</div>"
      ],
      "text/plain": [
       "                             title  \\\n",
       "0                     کیف مجلسی نو   \n",
       "1            دیوار کوب نمدی تزیینی   \n",
       "2  دو تیکه بسیار بسیار تمیز و سالم   \n",
       "3                             مودم   \n",
       "4   تعداد18عددبوقلمون به قیمت عمده   \n",
       "\n",
       "                                         description          categories  \n",
       "0                                   کیف مجلسی نوی نو            personal  \n",
       "1                               مناسب برای جهاز عروس        for-the-home  \n",
       "2                                 با کشوی مخفی و شیک        for-the-home  \n",
       "3  سلام مودم سالم با وسایلش،دیگه ب کارم نمیاد \\nم...  electronic-devices  \n",
       "4  سلام تعدای بوقلمون دارم به علت جابه جایی به فر...     leisure-hobbies  "
      ]
     },
     "execution_count": 402,
     "metadata": {},
     "output_type": "execute_result"
    }
   ],
   "source": [
    "test.head()"
   ]
  },
  {
   "cell_type": "markdown",
   "metadata": {},
   "source": [
    "<div dir=\"rtl\">\n",
    "    <h3 style=\"color: #2b9978; font-weight: 600;\">Normalizing</h3>\n",
    "    <h4 style=\"font-weight: 600;\">استفاده از نرمالایزر parsivar از بین بردن کاراکتر های بی اهمیت:</h4>\n",
    "    <h5 style=\"line-height: 20pt;\">در این مرحله از noramlizer موجود در parsivar استفاده میکنیم که اعداد فارسی را به انگلیسی تبدیل می کند و بین کاراکتر هایی مانند نقطه، ویرگول و... و کلمات کنار آنها فاصله اضافه می کند. نرمالسازی های دیگری نیز با توجه به متن های داده شده انجام شده اند. </h5>\n",
    "</div>"
   ]
  },
  {
   "cell_type": "code",
   "execution_count": 403,
   "metadata": {},
   "outputs": [],
   "source": [
    "def normalize_row(txt):\n",
    "    my_normalizer = parsivar.Normalizer()\n",
    "    my_normalizer.normalize(txt)\n",
    "    # txt = txt.replace(\"فک\", \"فکر\")\n",
    "    txt = txt.replace(\"دگ\", \"دیگر\")\n",
    "    # txt = txt.replace(\" برا\", \" برای\")\n",
    "    # txt = txt.replace(\"همون\", \"همان\")\n",
    "    # txt = txt.replace(\"خونه\", \"خانه\")\n",
    "    # txt = txt.replace(\"تون\", \"تان\")\n",
    "    # txt = txt.replace(\" ی \", \"\")\n",
    "    # txt = txt.replace(\" ب \", \" به \")\n",
    "    txt = txt.replace(\"\\n\",\"\")\n",
    "    txt = txt.replace(\"\\t\",\"\")\n",
    "    # txt = txt.replace( \"...\",\"\")\n",
    "    return txt\n",
    "\n",
    "def normalize(df):\n",
    "    df['title'] = df['title'].apply(lambda x: normalize_row(x))\n",
    "    df['description'] = df['description'].apply(lambda x: normalize_row(x))"
   ]
  },
  {
   "cell_type": "markdown",
   "metadata": {},
   "source": [
    "<div dir=\"rtl\">\n",
    "    <h3 style=\"color: #2b9978; font-weight: 600;\">حذف ایست واژه ها و شمردن تعداد کلمات در هر کلاس </h3>\n",
    "    <h5 style=\"line-height: 20pt;\">در این مرحله ابتدا جمله ها را به کلمات جداگانه تبدیل می کنیم و کلمات بدست آمده را بر اساس نام  کلاس آنها در ستون مربوط به آن کلاس در دیتافریم words ذخیره می کنیم. در مرحله بعد با استفاده از hazm، ایست واژه های زبان فارسی را دریافت کرده و آنها را از کلماتی که داریم حذف می کنیم.</h5>\n",
    "</div>"
   ]
  },
  {
   "cell_type": "code",
   "execution_count": 404,
   "metadata": {},
   "outputs": [],
   "source": [
    "def tokenize_row(txt, class_name, words_dict, idx, t, d = 0):\n",
    "    my_tokenizer = parsivar.Tokenizer()\n",
    "    words = my_tokenizer.tokenize_words((txt))\n",
    "    words_dict[class_name].extend(words)\n",
    "    if t:\n",
    "        class_count[class_name] += 1\n",
    "        class_count['sum'] += 1\n",
    "    else:\n",
    "        if d:\n",
    "            test_tokenized_desc[idx] = words\n",
    "        else:\n",
    "            test_tokenized_title[idx] = words\n",
    "    return words\n",
    "\n",
    "def tokenize(df, words_dict, t):\n",
    "    for i, x in enumerate(df['title']):\n",
    "        x = tokenize_row(x, df['categories'][i], words_dict, i, t, 1)\n",
    "    for i, x in enumerate(df['description']):\n",
    "        x = tokenize_row(x, df['categories'][i], words_dict, i, t)"
   ]
  },
  {
   "cell_type": "code",
   "execution_count": 405,
   "metadata": {},
   "outputs": [],
   "source": [
    "def rsw_from_array(words, stop_words):\n",
    "    words_temp = copy.deepcopy(words)\n",
    "    for word in words_temp:\n",
    "        if word in stop_words:\n",
    "            words.remove(word)\n",
    "\n",
    "def rsw_from_df(words_dict):\n",
    "    for category in words_dict:\n",
    "        rsw_from_array(words_dict[category], stop_words)"
   ]
  },
  {
   "cell_type": "markdown",
   "metadata": {},
   "source": [
    "<div dir=\"rtl\">\n",
    "    <h3 style=\"color: #2b9978; font-weight: 600;\">جایگزین کردن کلمات با استفاده از stemming و lemmatization </h3>\n",
    "    <h5 style=\"line-height: 20pt;\">۱)</h5>\n",
    "    <h4 style=\"font-weight: 600;\">توضیحات کلی:</h4>\n",
    "    <h5 style=\"line-height: 20pt;\">این دو روش برای تبدیل کردن کلماتی که از یک ریشه می آیند استفاده می شوند. با اینکار کلماتی که در حالت عادی یکسان شناخته نمی شدند اما تاثیر آنها بر قضاوت آنها به احتمال زیاد یکسان است، به صورت یک کلمه شناخته می شوند و این موضوع ممکن است منجر به دسته بندی بهتری شود و به صورت کلی به علت استفاده از جداول کمتر، بسیار سریعتر نیز خواهد بود. به عنوان مثال برای دسته بندی نظرات، کلمات راضیم، راضی، راضیه و ... همه نشاندهنده نظر مثبت کاربر می باشند و و ضمیر آنها تاثیری د ر قضاوت ما ندارد. </h5>\n",
    "    <h4 style=\"font-weight: 600;\">تفاوت های stemming و lemmatization</h4>\n",
    "    <h5 style=\"line-height: 20pt;\">شیوه stemming کلمات مشابه را به ریشه آنها که لزوما معنی دار نیست اما در همه  آنها مشترک است کاهش می دهد. به عنوان مثال، کلمات final, finally, finalize به ریشه fina.</h5>\n",
    "    <h5 style=\"line-height: 20pt;\">در مقابل شیوه lemmatization پس از پیدا کردن ریشه، آن را به یک کلمه معنی دار تبدیل می کند. در مثال قبل، lemmatization به ما کلمه final را می دهد.</h5>\n",
    "    <h4 style=\"font-weight: 600;\">کاربرد ها:</h4>\n",
    "    <h5 style=\"line-height: 20pt;\">سرعت stemming از lemmatization بیشتر است. چراکه برای پیدا کردن عبارات معنی دار لازم است قواعد زبان برای برنامه تعریف بشوند و تعداد زیادی پیش پردازش اضافه روی فایل ها انجام بشود که در stemming لازم نیست. بنابرین در جاهایی که سرعت اهمیت دارد یا معنی دار بون کلمات تاثیر زیادی در اجرای برنامه ندارد بهتر از شیوه stemming استفاده کنیم. اما مواردی هستند که معنی دار بودن عبارات برای ما مهم هستند. به عنوان مثال زمانی که می خواهیم به کاربر با توجه به تحلیل ها پاسخی ارائه بدهیم. در این موارد استفاده از ریشه های بی معنی مناسب نیست و بهتر است از lemmatization  استفاده شود. </h5>\n",
    "    <h5 style=\"line-height: 20pt;\"></h5>\n",
    "</div>"
   ]
  },
  {
   "cell_type": "markdown",
   "metadata": {},
   "source": [
    "<div dir=\"rtl\">\n",
    "    <h4 style=\"font-weight: 600;\">پیاده سازی stemmer و lemmatizer</h4>\n",
    "</div>"
   ]
  },
  {
   "cell_type": "code",
   "execution_count": 406,
   "metadata": {},
   "outputs": [],
   "source": [
    "def my_stem(words_dict):\n",
    "    stemmer = hazm.Stemmer()\n",
    "    for category in words_dict:\n",
    "       words_dict[category] = [stemmer.stem(word) for word in words_dict[category]]\n",
    "    \n",
    "def my_lemmatize(words_dict):\n",
    "    lemmatizer = hazm.Lemmatizer()\n",
    "    for category in words_dict:\n",
    "        words_dict[category] = [lemmatizer.lemmatize(word) for word in words_dict[category]]"
   ]
  },
  {
   "cell_type": "markdown",
   "metadata": {},
   "source": [
    "<div dir=\"rtl\">\n",
    "    <h4 style=\"font-weight: 600;\">اجرای برنامه های بالا و چاپ کردن نتایج</h4>\n",
    "    <h5 style=\"line-height: 20pt;\">دیکشنری های غیر words_dict_train و words_dict_test تنها برای تست کردن روش های lemmatization و stemming و مشاهده نتایج هستند و در فاز بعد استفاده نمی شوند. </h5>\n",
    "</div>"
   ]
  },
  {
   "cell_type": "code",
   "execution_count": 407,
   "metadata": {},
   "outputs": [
    {
     "name": "stdout",
     "output_type": "stream",
     "text": [
      "Normal run results:\n",
      "['سر', 'تویوتا', 'پرادو', 'قاب', 'فرمان', 'دسته', 'راهنما', 'پراید', 'مدل', '85', 'پراید', 'یشمی', 'مدل', '80', 'امپلی', '4کانال', 'MB', '۴۰۵نقره', 'دوگانه']\n",
      "['پراید', 'ماشین', 'فنی', 'فروش', 'کلیه', 'لوازم', 'یدکی', 'هیوندا', 'مینی', 'بوس', 'خودرو', '206', 'سفید', '89', '111-دولفینی-فول', 'ضبط', 'پایونر', '8350SDشش', 'خروجی']\n",
      "Stemming run results:\n",
      "['سر', 'تویوتا', 'پرادو', 'قاب', 'فر', 'دسته', 'راهنما', 'پراید', 'مدل', '85', 'پراید', 'یشم', 'مدل', '80', 'امپل', '4کانال', 'MB', '۴۰۵نقره', 'دوگانه']\n",
      "['پراید', 'ماشین', 'فن', 'فرو', 'کلیه', 'لواز', 'یدک', 'هیوندا', 'مین', 'بوس', 'خودرو', '206', 'سفید', '89', '111-دولفینی-فول', 'ضبط', 'پایونر', '8350SDش', 'خروج']\n",
      "Lemmatization run results:\n",
      "['سر', 'تویوتا', 'پرادو', 'قاب', 'فرمان', 'دسته', 'راهنما', 'پراید', 'مدل', '85', 'پراید', 'یشم', 'مدل', '80', 'امپلی', '4کانال', 'MB', '۴۰۵نقره', 'دوگانه']\n",
      "['پراید', 'ماشین', 'فن', 'فروش', 'کلیه', 'لوازم', 'یدک', 'هیوندا', 'مینی', 'بوس', 'خودرو', '206', 'سفید', '89', '111-دولفینی-فول', 'ضبط', 'پایونر', '8350SDشش', 'خروج']\n"
     ]
    }
   ],
   "source": [
    "def normal_run(df, words_dict, t):\n",
    "    normalize(df)\n",
    "    tokenize(df, words_dict, t)\n",
    "    rsw_from_df(words_dict)\n",
    "\n",
    "def stem_run(df, words_dict, t):\n",
    "    normal_run(df, words_dict, t)\n",
    "    my_stem(words_dict)\n",
    "    print(words_dict['vehicles'][1:20])\n",
    "\n",
    "def lemmatize_run(df, words_dict, t):\n",
    "    normal_run(df, words_dict, t)\n",
    "    my_lemmatize(words_dict)\n",
    "    print(words_dict['vehicles'][1:20])\n",
    "\n",
    "\n",
    "tr_words_dict1, te_words_dict1 = copy.deepcopy(words_dict_train), copy.deepcopy(words_dict_test)\n",
    "tr_words_dict2, te_words_dict2 = copy.deepcopy(words_dict_train), copy.deepcopy(words_dict_test)\n",
    "\n",
    "print(\"Normal run results:\")\n",
    "normal_run(train, words_dict_train, 1)\n",
    "normal_run(test, words_dict_test, 0)\n",
    "print(words_dict_train['vehicles'][1:20])\n",
    "print(words_dict_test['vehicles'][1:20])\n",
    "\n",
    "print(\"Stemming run results:\")\n",
    "stem_run(train, tr_words_dict1, 1)\n",
    "stem_run(test, te_words_dict1, 0)\n",
    "\n",
    "print(\"Lemmatization run results:\")\n",
    "lemmatize_run(train, tr_words_dict2, 1)\n",
    "lemmatize_run(test, te_words_dict2, 0)"
   ]
  },
  {
   "cell_type": "markdown",
   "metadata": {},
   "source": [
    "<div dir=\"rtl\">\n",
    "    <h4 style=\"font-weight: 600;\">مقایسه نتایج بدست آمده:</h4>\n",
    "    <h5 style=\"line-height: 20pt;\">همانطور که مشاهده می شود، استاپ ورد ها و کاراکتر های بی اهمیت حذف شده اند. در آرایه های سوم و چهارم که نتایج نرمالایز کردن با استفاده از stemming می باشد، می بینیم که به عنوان مثال کلمه ٬فرش٬ به ٬فر٬ و کلمه ٬لازم٬ به ٬لاز٬ تبدیل می شود که معنی دار نیستند. طبق داکیومنت کتابخانه هضم که در این بخش استفاده شده است، این کتابخانه در روش stemming پسوند هایی که احتمال زیاد بی معنی هستند را حذف می کند. مانند ش آخر کلمه.</h5>\n",
    "    <h5 style=\"line-height: 20pt;\">می توان مشاهده کرد که در این دسته کلمه ٬فنی٬ به ٬فن٬تغییر کرده است و کلماتی که در روش stem  بی معنی شده بودند به حالت اولیه خود برگشتند. طبق داکیومنت کتابخانه هضم که در این بخش استفاده شده است، این کتابخانه در روش lemmatizing برای افعال در زمان ها و ضمیر های مختلف، فعل ماضی و مضارع را در ضمیر سوم شخص بر میگرداند.</h5>\n",
    "</div>"
   ]
  },
  {
   "cell_type": "markdown",
   "metadata": {},
   "source": [
    "<div dir=\"rtl\">\n",
    "    <h2 dir=\"rtl\" style=\"color: #cf133e; font-weight: 600;\">فاز دوم: فرآیند مساله</h2>\n",
    "    <h3 style=\"color: #2b9978; font-weight: 600;\">محاسبه احتمالات به شیوه معمولی </h3>\n",
    "    <h5 style=\"line-height: 20pt;\">برای اینکار ابتدا باید تعداد هر کلمه به تفکیک دسته ها را بدست بیاوریم.</h5>\n",
    "</div>"
   ]
  },
  {
   "cell_type": "code",
   "execution_count": 408,
   "metadata": {},
   "outputs": [],
   "source": [
    "def accumulate(words, category):\n",
    "    occ_dict = {}\n",
    "    for word in words:\n",
    "        if word not in stop_words:\n",
    "            if word in occ_dict:\n",
    "                occ_dict[word] += 1\n",
    "            else:\n",
    "                occ_dict[word] = 1\n",
    "    return occ_dict\n",
    "\n",
    "def accumulate_words():\n",
    "    for category in words_dict_train:\n",
    "        words_count[category] = len(words_dict_train[category])\n",
    "        words_dict_train[category] = accumulate(words_dict_train[category], category)\n",
    "\n",
    "accumulate_words()"
   ]
  },
  {
   "cell_type": "markdown",
   "metadata": {},
   "source": [
    "<div dir=\"rtl\">\n",
    "    <h5 dir=\"rtl\" style=\"line-height: 20pt;\">سپس باید برای هر آگهی در test احتمال را با توجه به فرمول داده شده محاسبه کنیم. در اینجا فرض کردیم کلمات هر آگهی هم شامل عنوان و هم توضیحات آن آگهی می شود. برای جملاتی که به علت نبود یکی از کلمات آنها داخل کلاس ها، احتملا وجود کل جمله در همه کلاسها صفر می شد به صورت پیش فرض کلاس 'businesses' در نظر گرفته شده است.</h5>\n",
    "    <h5 style=\"line-height: 20pt;\">با بررسی آگهی های موجود در فایل train متوجه می شویم که بسیاری از آنها اسم جنس را تنها در عنوان مطرح کرده اند و در توضیحات صرفا به بیان ویژگی های جنس پرداخته اند. اگر تنها توضیحات را معیار قرار دهیم، در بسیاری از موارد اسم جنس که ممکن است تکرار زیادی در دسته داشته باشد(به عنوان مثال جنس ٬فرمان٬ در دسته ٬vehicles٬) را در نظر نگیریم و به همین علت تشخیص ما دقت لازم را نداشته باشد. از طرفی در بعضی آگهی ها کلمات کلیدی داخل توضیحات می تواند وجود داشته باشند که در صورت در نظر نگرفتن آنها، مجدد دقت تشخیص ما کاهش می یابد.(به عنوان مثال کلمه ٬سایز٬ در توضیحات بسیاری از جنس های مربوط به دسته ٬personal٬ آورده شده است و اگر کلمه ٬سایز٬ را در یک آگهی جدید ببینیم، احتمال اینکه مربوط به این دسته باشد به شدت بالا می رود که با حذف توضیحات متوجه این موضوع نمی شویم.)</h5>\n",
    "    <h5 style=\"line-height: 20pt;\">پس در این بخش برای بررسی تعداد کلمات موجود در هر آگهی، هم از توضیحات و هم از عنوان آن آگهی بهره می گیریم. تنها عیب این شیوه این است که ممکن است کلمه ای هم در توضیحات و هم در عنوان آگهی استفاده شده باشد که در پایان احتمال اینکه کلمه جزو آن کلاس باشد را افزایش می دهد اما از آنجایی که احتمال وقوع آگهی های این چنین در هر دسته برابر  و تقریبا مستقل از نوع دسته می باشد می توان از آن چشم پوشی کرد.</h5>\n",
    "</div>\n"
   ]
  },
  {
   "cell_type": "code",
   "execution_count": 409,
   "metadata": {},
   "outputs": [
    {
     "name": "stdout",
     "output_type": "stream",
     "text": [
      "mismatch:  مودم,سلام مودم سالم با وسایلش،دیگه ب کارم نمیاد مارکzyxelبرای خرید فقط با شماره ی زیر تماس بگیرید$NUM\n",
      "leisure-hobbies \n",
      " electronic-devices\n",
      "mismatch:  فروش سه بازی ps4,بازی ها یک هفته است که خریداری شده و کاملا سالم هستند بازی ها به ترتیب:W2K16,Little big planet 3,Lego Avengers  هستند\n",
      "leisure-hobbies \n",
      " electronic-devices\n",
      "mismatch:  لوستر,لوستر پنچ شاخه\n",
      "leisure-hobbies \n",
      " for-the-home\n",
      "mismatch:  زغال قلم جهرمی درجه۱,سلام زغال قلم درجه ۱ داریم شرط سوخت بسته بندی ۱۰کیلویی بدون ریزه و خاک کیلویی۶۵۰۰ت زغال شکسته داریم درجه۱ از چوب لیمو بدون ریزه و خاک کیلویی ۴۵۰۰ت زغال مجلسی(بافور) بدون ریزه و خاک۴۲۰۰ قیمت ها عمده میباشند\n",
      "leisure-hobbies \n",
      " businesses\n",
      "mismatch:  گیرنده دیجیتال و تلویزیون,گیرنده دیجیتال ایکس ویژن در حدنو کم کارکرد سالم و تمیز با کارتنتلویزیون سامسونگ سالم همون طور که در عکس میبینیدقیمت توافقی گذاشتمقیمت پیشنهادیتون رو بفرستین تلگرامخریدار واقعی تخفیف واقعیباتشکر\n",
      "leisure-hobbies \n",
      " electronic-devices\n",
      "\n",
      "\n",
      "maximum probability for the first 20 posts:  [2.07857758638538e-12, 4.4009062362052966e-24, 6.266023925097193e-17, 0, 0, 0, 0, 0, 0, 0, 0, 0, 0, 4.9434350420279214e-15, 0, 0, 0, 0, 7.788329292828754e-23, 0]\n",
      "class detected for the first 20 posts:  ['personal', 'for-the-home', 'for-the-home', 'leisure-hobbies', 'leisure-hobbies', 'leisure-hobbies', 'leisure-hobbies', 'leisure-hobbies', 'leisure-hobbies', 'leisure-hobbies', 'leisure-hobbies', 'leisure-hobbies', 'leisure-hobbies', 'vehicles', 'leisure-hobbies', 'leisure-hobbies', 'leisure-hobbies', 'leisure-hobbies', 'for-the-home', 'leisure-hobbies']\n",
      "\n",
      "\n",
      "probablities calculated: {'total': 1800, 'total_cor': 537, 'fp': [3, 5, 12, 8, 1228, 7], 'fn': [254, 274, 250, 230, 2, 253], 'tp': [46, 26, 50, 70, 298, 47]}\n"
     ]
    }
   ],
   "source": [
    "def calc_post_prob(words, category):\n",
    "    mult = 1\n",
    "    for word in words:\n",
    "        if word in words_dict_train[category]:\n",
    "            mult *= words_dict_train[category][word]/words_count[category]\n",
    "        elif word not in stop_words:\n",
    "            mult = 0\n",
    "\n",
    "    mult *= class_count[category]/class_count['sum']\n",
    "    return mult\n",
    "\n",
    "def calc_probs(max_probs, best_cats, probs):\n",
    "    nomm = 0\n",
    "    for i in range(len(test['description'])):\n",
    "        words = test_tokenized_desc[i] + test_tokenized_title[i]\n",
    "        for category in words_dict_train:\n",
    "            mult = calc_post_prob(words, category)\n",
    "            if mult > max_probs[i]:\n",
    "                max_probs[i] = mult\n",
    "                best_cats[i] = category\n",
    "\n",
    "        r_category_idx = list(words_dict_test.keys()).index(test['categories'][i])\n",
    "        p_category_idx = list(words_dict_test.keys()).index(best_cats[i])\n",
    "        \n",
    "        if p_category_idx == r_category_idx:\n",
    "            probs['total_cor'] += 1\n",
    "            probs['tp'][p_category_idx] += 1\n",
    "        else:\n",
    "            probs['fp'][p_category_idx] += 1\n",
    "            probs['fn'][r_category_idx] += 1\n",
    "            if nomm < 5:\n",
    "                print(\"mismatch: \", test['title'][i]+ \",\"+ test['description'][i]+\"\\n\"+ best_cats[i],\"\\n\", test['categories'][i])\n",
    "                nomm += 1\n",
    "\n",
    "probs = {\n",
    "    'total': len(test['description']),\n",
    "    'total_cor': 0,\n",
    "    'fp': [0]*6,\n",
    "    'fn': [0]*6,\n",
    "    'tp': [0]*6,\n",
    "} \n",
    "\n",
    "max_probs, best_cats = [0]*len(test['description']), ['leisure-hobbies']*len(test['description'])\n",
    "calc_probs(max_probs, best_cats, probs)\n",
    "print(\"\\n\")\n",
    "print(\"maximum probability for the first 20 posts: \", max_probs[0:20])\n",
    "print(\"class detected for the first 20 posts: \", best_cats[0:20])\n",
    "print(\"\\n\")\n",
    "print(\"probablities calculated:\", probs)"
   ]
  },
  {
   "cell_type": "markdown",
   "metadata": {},
   "source": [
    "<div dir=\"rtl\">\n",
    "    <h5 style=\"line-height: 20pt;\">۲)</h5>\n",
    "    <h5 style=\"line-height: 20pt;\">posterior probability احتمال به روز رسانی شده یا اصلاح شده به وفوع پیوستن یک واقعه، پس از بررسی اطلاعات جدید می باشد(میزان باور ما نسبت به c پس از مشاهده x). در این پروژه، posterior به معنای احتمال اینکه آگهی جزو کلاس c باشد به شرطی که جمله x در آن وجود داشته باشد است. با استفاده از فرمول bayes  که در پروژه نیز آورده شده است می توان این احتمال را محاسبه کرد.</h5>\n",
    "    <h5 style=\"line-height: 20pt;\">prior probability احتمال به وقوع پیوستن واقعه c قبل از جمع آوری اطلاعات جدید می باشد.(میزان باور ابتدایی ما نسبت به c) در این مساله prior نشاندهنده احتمال اینکه آگهی در دسته c باشد است که می توانیم با تقسیم تعداد آگهی های موجود در دسته c بر تعداد کل آگهی ها در فایل train مقدار آنرا بدست بیاوریم.</h5>\n",
    "    <h5 style=\"line-height: 20pt;\">liklihood به معنای احتمال اتفاق افتاد x به شرط آن است که بدانیم c قبلا اتفاق افتاده است. در این مساله، liklihood نشاندهنده احتمال دیده شدن جمله x در صورتی که بدانیم آگهی متعلق به کلاس c است می باشد. برای محاسبه liklihood ابتدا برای هر کلمه در x، تکرار آنرا در کلاس c تقسیم بر تعداد کل کلمات موجود در کلاس c می کنیم و سپس همه این احتمالات را در هم ضرب می کنیم.</h5>\n",
    "    <h5 style=\"line-height: 20pt;\">evidence مقدار liklihood را با یک عدد متناظر می کند که نشاندهنده احتمال مشاهدات می باشد که در این مساله احتمال مشاهده شدن جمله x در همه آگهی ها است. هر چه این احتمال بیشتر باشد، مدل ما(liklihood) برای مساله مناسبتر است.(در واقع liklihood/evidence نشاندهنده میزان حمایت x از c می باشد. یعنی چقدر دیده شدن x، احتمال وقوع c را تقویت یا تضعیف می کند.) برای محاسبه این احتمال می توان از فرمول احتمال کامل استفاده کرد یا ابتدا برای هر کلمه تعداد تکرار کلمه در کل آگهی ها را تقسیم بر تعداد کل کلمات کرد و مقادیر بدست آمده را در هم ضرب کرد. مشخص است که احتمال x ربطی به دسته ها ندارد و در نتیجه برای همه دسته یکسان است. از آنجایی که در این مساله هدف ما مقایسه احتمال تعلق به یک دسته بین دسته های مختلف است، می توان از این عامل که بین همه آنها یکسان است در محاسبات صرف نظر کرد. </h5>\n",
    "</div>"
   ]
  },
  {
   "cell_type": "markdown",
   "metadata": {},
   "source": [
    "<div dir=\"rtl\">\n",
    "    <h3 style=\"color: #2b9978; font-weight: 600;\">استفاده از bigrams </h3>\n",
    "    <h5 style=\"line-height: 20pt;\">۳)</h5>\n",
    "    <h5 style=\"line-height: 20pt;\">دو جمله که در آنها یک کلمه یکسان دو معنی متفاوت داشته باشد: </h5>\n",
    "    <h5 style=\"line-height: 20pt;\">شیر خوشمزه است.</h5>\n",
    "    <h5 style=\"line-height: 20pt;\">شیر آب چکه می کند.</h5>\n",
    "    <h5 style=\"line-height: 20pt;\">در صورت استفاده از bigram ها، ٬شیر٬ در جمله اول با ٬خوشمزه٬ و ٬شیر٬ دوم با ٬آب٬ گروه می شود. در این صورت با استفاده از کلمه ٬خوشمزه٬ می توان حدس زد منظور از شیر در جمله اول شیر آب یا شیر حیوان نیست و همچنین از ٬آب٬ در جمله دوم می توان به راحتی معنی مورد نظر شیر در این جمله را تشخیص داد</h5>\n",
    "    <h5 style=\"line-height: 20pt;\">در جملات ذکر شده در بالا یک bigram برای تشخیص معنی کلمات کافی می باشد. اما در جملاتی مانند جملات زیر:</h5>\n",
    "    <h5 style=\"line-height: 20pt;\"> یک شیر زیبا، در جنگل پرسه می زد.</h5>\n",
    "    <h5 style=\"line-height: 20pt;\">شیر قدیمی خانه خود را با یک شیر زیبا و استیل عوض کردیم.</h5>\n",
    "    <h5 style=\"line-height: 20pt;\">همانطور که در بالا مشخص است، کلمات قبل و بعد از شیر در هر دو جمله یکسان می باشد اما منظور از یکی شیر حیوان و منظور از دیگری شیر آب می باشد. پس یک bigram برای تشخیص معنای آن کافی نیست و در صورت در نظر نگرفتن ایست واژه ها، حداقل به یک 3-gram برای تشخیص درست احتیاج داریم.</h5>\n",
    "</div>"
   ]
  },
  {
   "cell_type": "markdown",
   "metadata": {},
   "source": [
    "<div dir=\"rtl\">\n",
    "    <h3 style=\"color: #2b9978; font-weight: 600;\">محاسبه احتمالات به شیوه additive smoothing </h3>\n",
    "    <h5 style=\"line-height: 20pt;\">۴)</h5>\n",
    "    <h5 style=\"line-height: 20pt;\">از آنجایی که احتمال وقوع هر کلمه در جمله را مستقل از کلمات دیگر می گیریم و احتمال وقوع همه کلمات جمله را در هم ضرب کرده و سپس ضربدر احتمال وقوع کلاس می کنیم تا احتمال posterior را بدست آوریم، در صورتی که در این ضرب، یکی از مقادیر صفر باشد، احتمال پسین نیز صفر خواهد شد. یعنی یک کلمه در جمله به گونه ای می تواند احتمال همه کلمات دیگر را وتو کند و حتی اگر در این جمله کلمه ای وجود داشته باشد که احتمال وقوع آن در یک کلاس بسار بالا باشد، در صورتی که کلمه دیگری در این جمله اصلا در این کلاس وجود نداشته باشد، کل احتمال پسین صفر شده و آن احتمال بالا کاملا نادیده گرفته می شود. همچنین ممکن است کلمه ای در جمله وجود داشته باشد که تابحال در هیچ کلاسی وجود نداشته که در این صورت احتمال مربوط به همه کلاسها صفر شده و آگهی مربوط به هیچ کلاسی شناخته نمی شود. به همین صورت اگر کلمه لاستیک تنها در کلاس وسایل نقلیه باشد، احتمال پسین آن برای کلاس های دیگر صفر می شود.</h5>\n",
    "    <h4 style=\"font-weight: 600;\">پیاده سازی additive smoothing: </h4>\n",
    "</div>"
   ]
  },
  {
   "cell_type": "code",
   "execution_count": 410,
   "metadata": {},
   "outputs": [
    {
     "name": "stdout",
     "output_type": "stream",
     "text": [
      "mismatch:  دوربین تک چشم روسی,بردش از ۲۰به ۴۰تغییر یافته ۴۰در۵۰\n",
      "electronic-devices \n",
      " leisure-hobbies\n",
      "mismatch:  سیپوراکس,سیپوراکس میکرو مک جی بی ال و سرامیک سرا ، کاهنده نیترات و نیتریت اکواریوم ، درجه یک\n",
      "for-the-home \n",
      " leisure-hobbies\n",
      "mismatch:  موتور تزیینی,از جنس اهن کار دست عرضه به صورت عمده و تکی\n",
      "businesses \n",
      " for-the-home\n",
      "mismatch:  90عدد بشقاب پیتزا تک نفره قیمت هرعدد 4000,بشقاب پیتزا یک نفره عددی 4000 باتشکراز دیوار.\n",
      "for-the-home \n",
      " businesses\n",
      "mismatch:  اچارشلاقی HEYCOالمان,اصل المان سایز ۱/۵بسیار مقاوم\n",
      "personal \n",
      " businesses\n",
      "\n",
      "\n",
      "maximum probability for the first 20 posts:  [5.98081706355225e-13, 2.2027729314488094e-24, 5.3643760179383995e-17, 1.8833485679162774e-43, 4.4609290057030924e-54, 3.75534357412872e-39, 7.964731966245166e-37, 7.307239028186915e-47, 3.155771190160357e-14, 1.6517917161351975e-55, 2.738222363125526e-111, 8.07062440489306e-84, 6.72384079001151e-29, 1.393139388172121e-15, 2.450569445575981e-27, 1.2928660273858708e-168, 1.4867999839466247e-58, 2.2123421017892034e-81, 2.3349128560114212e-23, 2.392025792590563e-101]\n",
      "class detected for the first 20 posts:  ['personal', 'for-the-home', 'for-the-home', 'electronic-devices', 'leisure-hobbies', 'leisure-hobbies', 'electronic-devices', 'electronic-devices', 'for-the-home', 'leisure-hobbies', 'businesses', 'electronic-devices', 'vehicles', 'vehicles', 'leisure-hobbies', 'electronic-devices', 'for-the-home', 'vehicles', 'for-the-home', 'vehicles']\n",
      "\n",
      "\n",
      "probablities calculated: {'total': 1800, 'total_cor': 1533, 'fp': [18, 18, 65, 110, 17, 39], 'fn': [29, 41, 76, 31, 57, 33], 'tp': [271, 259, 224, 269, 243, 267]}\n"
     ]
    }
   ],
   "source": [
    "def calc_post_prob_AS(words, category):\n",
    "    mult = 1\n",
    "    for word in words:\n",
    "        if word in words_dict_train[category]:\n",
    "            mult *= (words_dict_train[category][word]+1)/(words_count[category]+len(words_dict_train[category])+1)\n",
    "        elif word not in stop_words:\n",
    "            mult *= 1/(words_count[category]+len(words_dict_train[category])+1)\n",
    "\n",
    "    mult *= class_count[category]/class_count['sum']\n",
    "    return mult\n",
    "\n",
    "def calc_probs_AS(max_probs, best_cats, probs):\n",
    "    nomm = 0\n",
    "    for i in range(len(test['description'])):\n",
    "        words = test_tokenized_desc[i] + test_tokenized_title[i]\n",
    "        for category in words_dict_train:\n",
    "            mult = calc_post_prob_AS(words, category)\n",
    "            if mult > max_probs[i]:\n",
    "                max_probs[i] = mult\n",
    "                best_cats[i] = category\n",
    "\n",
    "        if best_cats[i] == '':\n",
    "            continue\n",
    "\n",
    "        r_category_idx = list(words_dict_test.keys()).index(test['categories'][i])\n",
    "        p_category_idx = list(words_dict_test.keys()).index(best_cats[i])\n",
    "        \n",
    "        if p_category_idx == r_category_idx:\n",
    "            probs['total_cor'] += 1\n",
    "            probs['tp'][p_category_idx] += 1\n",
    "        else:\n",
    "            probs['fp'][p_category_idx] += 1\n",
    "            probs['fn'][r_category_idx] += 1\n",
    "            if nomm < 5:\n",
    "                print(\"mismatch: \", test['title'][i]+ \",\"+ test['description'][i]+\"\\n\"+ best_cats[i],\"\\n\", test['categories'][i])\n",
    "                nomm += 1\n",
    "\n",
    "probs_AS = {\n",
    "    'total': len(test['description']),\n",
    "    'total_cor': 0,\n",
    "    'fp': [0]*6,\n",
    "    'fn': [0]*6,\n",
    "    'tp': [0]*6,\n",
    "} \n",
    "\n",
    "max_probs_AS, best_cats_AS = [0]*len(test['description']), ['businesses']*len(test['description'])\n",
    "calc_probs_AS(max_probs_AS, best_cats_AS, probs_AS)\n",
    "print(\"\\n\")\n",
    "print(\"maximum probability for the first 20 posts: \", max_probs_AS[0:20])\n",
    "print(\"class detected for the first 20 posts: \", best_cats_AS[0:20])\n",
    "print(\"\\n\")\n",
    "print(\"probablities calculated:\", probs_AS)"
   ]
  },
  {
   "cell_type": "markdown",
   "metadata": {},
   "source": [
    "<div dir=\"rtl\">\n",
    "    <h5 style=\"line-height: 20pt;\">۵)</h5>\n",
    "    <img src=\"./images/as_fromula.png\" />\n",
    "    <h5 style=\"line-height: 20pt;\">فرمول بالا، فرمول جایگزین برای محاسبه احتمال رخداد هر کلمه در آگهی ها یک دسته می باشد. همانطور که مشخص است، اگر همه مقادیر قابلمحاسبه هم صفر باشند، این فرمول هیچ گاه صفر نمی شود و به همین علت مشکل مطرح شده در سوال ۴ را حل می کند.</h5>\n",
    "    <h5 style=\"line-height: 20pt;\">این فرمول به صورت عمل می کند که اگر کلمه ای را دید که قبلا در کلاس ندیده بود، به جای اینکه احتمال وقوع آن را در کلاس صفر بگذارد، در محاسبه طوری عمل میکند که انگار کلمه جدید را با عنوان ٬ناشنشاخته٬ به کلاس اضافه کرده است(انگار کلمه ٬ناشناخته٬ را به آگهی اضافه کرده ایم.). سپس در مخرچ نیز تعداد لغات یکتا موجود در متن را با یک جمع می کند که نشاندهنده این است که یک کلمه یکتا دیگری به جمع این کلمات اضافه شده است.</h5>\n",
    "    <h5 style=\"line-height: 20pt;\">اگر کلمه ای ببینیم که قبلا در مجموعه وجود داشته، تعداد آن به اضافه یک می شود. به طوریکه وزن بیشتری به کلماتی که قبلا وجود داشته اند به نسبت کلماتی که تازه اضافه شده اند اختصاص داده شود و تعداد آنها از دو شروع شود.</h5>\n",
    "\n",
    "</div>"
   ]
  },
  {
   "cell_type": "markdown",
   "metadata": {},
   "source": [
    "<div dir=\"rtl\">\n",
    "    <h3 style=\"color: #2b9978; font-weight: 600;\">بررسی صحت </h3>\n",
    "    <h5 style=\"line-height: 20pt;\">۶) رسم پلات ها</h5>\n",
    "    <h5 style=\"line-height: 20pt;\">همانطور که در پلات های زیر مشاهده می شود، کلمات ٬نو٬ و ٬سالم٬ جزو کلمات پر تکرار بیشتر دسته ها هستند و تعداد آنها در هر دسته، بهتر است تاثیری در احتمال تعلق آگهی به آن دسته نداشته باشد. می توان این دو کلمه را به لیست ایست واژه ها اضافه کرد.</h5>\n",
    "    <h5 style=\"line-height: 20pt;\"> پلات ها قبل از حذف کلماتی که در بیشتر کلاسها تکرار شده اند:</h5>\n",
    "    <img src=\"./images/plt-1.png\" />\n",
    "    <img src=\"./images/plt-2.png\" />\n",
    "</div>"
   ]
  },
  {
   "cell_type": "markdown",
   "metadata": {},
   "source": [
    "<div dir=\"rtl\">\n",
    "    <h5 style=\"line-height: 20pt;\"> پلات ها پس از حذف کلماتی که در بیشتر کلاسها تکرار شده اند:</h5>\n",
    "</div>"
   ]
  },
  {
   "cell_type": "code",
   "execution_count": 411,
   "metadata": {},
   "outputs": [
    {
     "data": {
      "image/png": "[encoded data removed]",
      "text/plain": [
       "<Figure size 432x288 with 1 Axes>"
      ]
     },
     "metadata": {
      "needs_background": "light"
     },
     "output_type": "display_data"
    },
    {
     "data": {
      "image/png": "[encoded data removed]",
      "text/plain": [
       "<Figure size 432x288 with 1 Axes>"
      ]
     },
     "metadata": {
      "needs_background": "light"
     },
     "output_type": "display_data"
    },
    {
     "data": {
      "image/png": "[encoded data removed]",
      "text/plain": [
       "<Figure size 432x288 with 1 Axes>"
      ]
     },
     "metadata": {
      "needs_background": "light"
     },
     "output_type": "display_data"
    },
    {
     "data": {
      "image/png": "[encoded data removed]",
      "text/plain": [
       "<Figure size 432x288 with 1 Axes>"
      ]
     },
     "metadata": {
      "needs_background": "light"
     },
     "output_type": "display_data"
    },
    {
     "data": {
      "image/png": "[encoded data removed]",
      "text/plain": [
       "<Figure size 432x288 with 1 Axes>"
      ]
     },
     "metadata": {
      "needs_background": "light"
     },
     "output_type": "display_data"
    },
    {
     "data": {
      "image/png": "[encoded data removed]",
      "text/plain": [
       "<Figure size 432x288 with 1 Axes>"
      ]
     },
     "metadata": {
      "needs_background": "light"
     },
     "output_type": "display_data"
    }
   ],
   "source": [
    "def plot_cat(category):\n",
    "    sorted_cat = copy.deepcopy(words_dict_train[category])\n",
    "    sorted_cat = dict(sorted(sorted_cat.items(), key = lambda x: x[1], reverse = True))\n",
    "\n",
    "    keys = list(sorted_cat.keys())\n",
    "    for i in range(5):\n",
    "        if keys[i] in stop_words:\n",
    "            sorted_cat.pop(sorted_cat[keys[i]])\n",
    "\n",
    "    a = list(sorted_cat.items())\n",
    "    a_keys = [x[0] for x in a[0:5]]\n",
    "    a_vals = [x[1] for x in a[0:5]]\n",
    "    \n",
    "    plt.title(category)\n",
    "    plt.bar(a_keys, a_vals)\n",
    "    plt.show()\n",
    "\n",
    "def plot_all_cats():\n",
    "    for category in words_dict_train:\n",
    "        plot_cat(category)\n",
    "\n",
    "plot_all_cats()"
   ]
  },
  {
   "cell_type": "markdown",
   "metadata": {},
   "source": [
    "<div dir=\"rtl\">\n",
    "    <h2 dir=\"rtl\" style=\"color: #cf133e; font-weight: 600;\">فاز سوم: ارزیابی</h2>\n",
    "    <h5 style=\"line-height: 20pt;\">۷)</h5>\n",
    "    <h4 style=\"font-weight: 600;\">چرا به هر دو مقدار precision و recall احتیاج داریم</h4>\n",
    "    <h5 style=\"line-height: 20pt;\">عموما در بررسی دقت طراحی تنها از precision یا recall استفاده نمی شود و هر دو را با هم استفاده می کنند. زیرا به سادگی می توان مدل را به گونه ای طراحی کرد که همه precision را با هزینه کم شدن recall افزایش بدهد یا بالعکس.</h5>\n",
    "    <h4 style=\"font-weight: 600;\">مثال اول: precision بالا و recall پایین</h4>\n",
    "    <h5 style=\"line-height: 20pt;\">می توانیم مدلی طراحی کنیم که از بین همه آگهی ها،تنها آگهی هایی که در آنها کلمه ٬پراید٬ استفاده شده است را پیدا کند و در دسته وسایل نقلیه قرار دهد. با توجه به نمودار های بخش قبل می دانیم احتمال اینکه این پیش بینی ها درست باشند(یعنی در آگهی کلمه پراید استفاده شده باشد و واقعا متعلق به دسته وسایل نقلیه باشد) بسیار بالاست و در نتیجه precision نزدیک به یک خواهد بود. در حالیکه ممکن است recall بسیار پایین باشد. چرا که در recall، false negative ها هم در نظر گرفته می شوند. یعنی آگهی هایی که در آنها کلمه پراید به کار نرفته بود و به همین علت به در دسته وسایل نقلیه قرار نگرفتند(که تعداد آنها کم نیست. مثل آگهی های مربوط به لوازم جانبی ماشین و مدل های دیگر ماشین) نیز در مخرج حضور می یابند. پس با precision به تنهایی مدل به نظر مدل خوبی می رسد در حالیکه دارد اشتباه عمل می کند. </h5>\n",
    "    <h4 style=\"font-weight: 600;\">مثال دوم: precision پایین و recall بالا</h4>\n",
    "    <h5 style=\"line-height: 20pt;\">می توانیم مدلی داشته باشیم که کل آگهی ها را جزو دسته وسایل نقلیه تشخیص دهد. در این صورت تعداد آگهی هایی که جزو وسایل نقلیه هستند و توسط مدل ما به اشتباه دسته بندی شده اند صفر خواهد بود و recall مدل ما یک می شود. در صورتی که ممکن است تعداد آگهی های زیادی باشند که جزو وسایل نقلیه نباشند و ما به اشتباه جزو وسایل نقلیه آنها را پیش بینی کرده باشیم. این مقادیر اشتباه پیش بینی شده در مخرج precision ظاهر می شوند و مقدار آن را به شدت کاهش می دهد. پس امکان دارد مقدار recall  به یک بسیار نزدیک باشد اما مدل ما درست کار نکند.</h5>\n",
    "    <h5 style=\"line-height: 20pt;\">۸)</h5>\n",
    "    <h5 style=\"line-height: 20pt;\">F1 از میانگین گیری harmonic استفاده می کند. دلیل استفاده از این نوع میانگین گیری در زیر آمده است:</h5>\n",
    "    <h5 style=\"line-height: 20pt;\">فرض کنیم می خواهیم میانگین سرعت ۳۰ کیلومتر بر ساعت و ۴۰ کیلومتر بر ساعت را بدانیم. این میانگین قطعا به صورت عادی محاسبه می شود و مقدار آن برابر با ۳۵ کیلومتر بر ساعت خواهد بود که از میانگین گیری عادی بدست می آید.</h5>\n",
    "    <h5 style=\"line-height: 20pt;\">حال فرض کنیم با یک ماشین مسافت ۱۰ کیلومتر را ابتدا با سرعت ۳۰ کیلومتر بر ساعت و سپس با سرعت ۴۰ کیلومتر بر ساعت طی می کنیم. در این صورت میانگین سرعت در این ۲۰ کیلومتر را دیگر نمی توانیم از میانگین گیری عادی استفاده کنیم و باید از میانگین گیری harmonic استفاده کنیم.  </h5>\n",
    "    <h5 style=\"line-height: 20pt;\">استفاده از میانگین گیری عادی در مورد دوم به این علت اشتباه است که برای اینکه میانگین گیری عادی پاسخ درستی به ما بدهد باید مقادیر  باید بر واحد یکسانی تقسیم شده باشند.(در واحد یکسانی قرار داشته باشند.) به عنوان مثال کیلومتر بر ساعت باید در بازه ساعات یکسان بررسی شود. برای پیدا کردن میانگین در فاصله یکسان در واحد کیلومتر، باید میانگین گیری روی ساعت بر کیلومتر(مقداری از ساعت که طول می کشد تا یک کیلومتر طی شود) انجام شوم که دقیقا کاری است که میانگین گیری harmonic انجام می دهد. </h5>\n",
    "    <h5 style=\"line-height: 20pt;\">به صورت مشابه، recall و precision هر دو صورت مشابهی دارند(true positives) در حالیکه مخرج آنها متفاوت است.(true positive+false negative, true positive+false positive). پس بهتر است که میانگین گیری روی عکس کسر آنها انجام شود. در واقع فرمول داده شده در صورت سوال، ساده شده فرمول زیر می باشد: که یعنی روی آنها میانگین گیری harmonic انجام شود. </h5>\n",
    "    <img src=\"./images/hm_formula.png\" />\n",
    "    <h5 style=\"line-height: 20pt;\">اگر n را در فرمول بالا در مخرج مخرج قرار بدهیم به سادگی مشخص است که این فرمول، همان میانگین گیری عادی روی معکوس کسر های داده شده است. </h5>\n",
    "    <h5 style=\"line-height: 20pt;\">۹)</h5>\n",
    "    <h5 style=\"line-height: 20pt;\">سه معیار نام برده شده برای بدست آوردن F1-score  برای کل مدل دسته بندی کننده در مواردی که بیشتر از دو کلاس داریم استفاده می شود.</h5>\n",
    "    <h4 style=\"font-weight: 600;\">Macro-F1</h4>\n",
    "    <h5 style=\"line-height: 20pt;\">میانگین معمولی بین F1-score کلاس های مختلف را نشان می دهد.</h5>\n",
    "    <h4 style=\"font-weight: 600;\">Weighted-F1</h4>\n",
    "    <h5 style=\"line-height: 20pt;\">میانگین وزن دار بین F1-score کلاس ها را نشان می دهد. به این صورت که  وزن هر کلاس برابر با تعداد تکرار آن در کل داده هایی که دسته بندی کردیم می باشد. در پایان مجمع ضرب وزن هر کلاس در F1-score آن تقسیم بر تعداد کل داده های دسته بندی شده می شود.</h5>\n",
    "    <h4 style=\"font-weight: 600;\">micro-F1</h4>\n",
    "    <h5 style=\"line-height: 20pt;\">برای پیدا کردن مقدار micro-F1 باید مقادیر microaveraged recall و microaveraged precision را بدست بیاوریم.</h5>\n",
    "    <h5 style=\"line-height: 20pt;\">microaveraged recall به این صورت بدست می آید که به جای اینکه تنها به داده های یک کلاس خاص نگاه کنیم، به داده های  کل کلاس ها و پیش بینی های کل کلاسها نگاه می کنیم. به این صورت که می بینیم به صورت کلی چند پیش بینی درست انجام داده ایم، و این مقدار را تقسیم بر تعداد همه پیش بینی های درست به اضافه همه پیش بینی های غلط می کنیم.</h5>\n",
    "    <h5 style=\"line-height: 20pt;\">microaveraged precision به این صورت بدست می آید که تعدا پیش بینی های درست را تقسیم بر مجموع تعداد پیش بینی های نادرست و درست برای هر کلاس می کنیم. مثلا اگر یک آگهی که در واقعیت وسیله نقلیه است در دسته شخصی قرار گرفته باشد، این پیش بینی یک false positive برای شخصی است و به تعداد پیش بینی های نادرست یکی اضافه می شود. در پایان مشخص است که این مقدار نیز برابر با تعداد کل پیش بینی های غلط می شود. </h5>\n",
    "    <h5 style=\"line-height: 20pt;\"> که مخارج microaveraged precision و microaveraged recall با هم یکی و برابر با مجموع پیش بینی های غلط و پیش بینی های درست است. این مقدار طبق تعریف با مقدار accuracy برابر است و مقدار micro-F1 نیز برابر با همین مقدار است.  </h5>\n",
    "    <h5 style=\"line-height: 20pt;\">۱۰)</h5>\n",
    "    <h5 style=\"line-height: 20pt;\"> با پیاده سازی توابع زیر، معیار ها را بدست می آوریم:  </h5>\n",
    "\n",
    "</div>"
   ]
  },
  {
   "cell_type": "code",
   "execution_count": 427,
   "metadata": {},
   "outputs": [],
   "source": [
    "def calc_accuracy(dict):\n",
    "    print(dict['total_cor']/dict['total']*100)\n",
    "\n",
    "def calc_precision(dict, precisions, idx):\n",
    "    precisions[idx] = dict['tp'][idx]/(dict['tp'][idx]+dict['fp'][idx])\n",
    "    print(precisions[idx])\n",
    "\n",
    "def calc_recall(dict, recalls, idx):\n",
    "    recalls[idx] = dict['tp'][idx]/(dict['tp'][idx]+dict['fn'][idx])\n",
    "    print(recalls[idx])\n",
    "\n",
    "def calc_F1(precisions, recalls, F1s, idx):\n",
    "    F1s[idx] = 2*(precisions[idx]*recalls[idx]/(precisions[idx]+recalls[idx]))\n",
    "    print(F1s[idx])\n",
    "        \n",
    "precisions, precisions_AS = [0]*6, [0]*6\n",
    "recalls, recalls_AS = [0]*6, [0]*6\n",
    "F1s, F1s_AS = [0]*6, [0]*6\n",
    "\n",
    "def calc_calss_measurs(dict, precisions, recalls, F1s):\n",
    "    for cat in words_dict_test:\n",
    "        idx = list(words_dict_test.keys()).index(cat)\n",
    "        print(\"     \", cat)\n",
    "        print(\"         precision: \", end=\"\")\n",
    "        calc_precision(dict, precisions, idx)\n",
    "        print(\"         recall: \", end=\"\")\n",
    "        calc_recall(dict, recalls, idx)\n",
    "        print(\"         F1-score: \", end=\"\")\n",
    "        calc_F1(precisions, recalls, F1s, idx)\n",
    "\n",
    "\n",
    "def calc_macroF1(F1s):\n",
    "    print(sum(F1s)*100/6)\n",
    "\n",
    "def calc_weightedF1(dict, F1s):\n",
    "    F1s_w = copy.deepcopy(F1s)\n",
    "    F1s_w = [x*(dict['tp'][i]+dict['fn'][i]) for i, x in enumerate(F1s_w)]\n",
    "    print(sum(F1s_w)/dict['total'])\n",
    "\n",
    "def calc_microF1(dict):\n",
    "    print(sum(dict['tp'])/(sum(dict['tp'])+sum(dict['fp'])))"
   ]
  },
  {
   "cell_type": "markdown",
   "metadata": {},
   "source": [
    "<div dir=\"rtl\">\n",
    "    <h4 style=\"font-weight: 600;\"> نشان دادن نتایج</h4>\n",
    "</div>"
   ]
  },
  {
   "cell_type": "code",
   "execution_count": 428,
   "metadata": {},
   "outputs": [
    {
     "name": "stdout",
     "output_type": "stream",
     "text": [
      "Measures before additive smoothing:\n",
      "      vehicles\n",
      "         precision: 0.9387755102040817\n",
      "         recall: 0.15333333333333332\n",
      "         F1-score: 0.26361031518624634\n",
      "      electronic-devices\n",
      "         precision: 0.8387096774193549\n",
      "         recall: 0.08666666666666667\n",
      "         F1-score: 0.15709969788519637\n",
      "      businesses\n",
      "         precision: 0.8064516129032258\n",
      "         recall: 0.16666666666666666\n",
      "         F1-score: 0.27624309392265195\n",
      "      for-the-home\n",
      "         precision: 0.8974358974358975\n",
      "         recall: 0.23333333333333334\n",
      "         F1-score: 0.3703703703703704\n",
      "      leisure-hobbies\n",
      "         precision: 0.19528178243774574\n",
      "         recall: 0.9933333333333333\n",
      "         F1-score: 0.3263964950711939\n",
      "      personal\n",
      "         precision: 0.8703703703703703\n",
      "         recall: 0.15666666666666668\n",
      "         F1-score: 0.2655367231638418\n",
      "\n",
      "\n",
      "Measures after additive smoothing:\n",
      "      vehicles\n",
      "         precision: 0.9377162629757786\n",
      "         recall: 0.9033333333333333\n",
      "         F1-score: 0.9202037351443124\n",
      "      electronic-devices\n",
      "         precision: 0.9350180505415162\n",
      "         recall: 0.8633333333333333\n",
      "         F1-score: 0.8977469670710572\n",
      "      businesses\n",
      "         precision: 0.7750865051903114\n",
      "         recall: 0.7466666666666667\n",
      "         F1-score: 0.7606112054329371\n",
      "      for-the-home\n",
      "         precision: 0.7097625329815304\n",
      "         recall: 0.8966666666666666\n",
      "         F1-score: 0.792341678939617\n",
      "      leisure-hobbies\n",
      "         precision: 0.9346153846153846\n",
      "         recall: 0.81\n",
      "         F1-score: 0.8678571428571429\n",
      "      personal\n",
      "         precision: 0.8725490196078431\n",
      "         recall: 0.89\n",
      "         F1-score: 0.8811881188118812\n"
     ]
    }
   ],
   "source": [
    "print(\"Measures before additive smoothing:\")\n",
    "calc_calss_measurs(probs, precisions, recalls, F1s)\n",
    "print(\"\\n\")\n",
    "print(\"Measures after additive smoothing:\")\n",
    "calc_calss_measurs(probs_AS, precisions_AS, recalls_AS, F1s_AS)"
   ]
  },
  {
   "cell_type": "code",
   "execution_count": 429,
   "metadata": {},
   "outputs": [
    {
     "name": "stdout",
     "output_type": "stream",
     "text": [
      "Accuracy before additive smoothing:\n",
      "29.833333333333336\n",
      "Accuracy after additive smoothing:\n",
      "85.16666666666667\n",
      "\n",
      "\n",
      "Macro-F1 before additive smoothing:\n",
      "27.65427825999168\n",
      "Macro-F1 after additive smoothing:\n",
      "85.33248080428247\n",
      "\n",
      "\n",
      "Weighted-F1 before additive smoothing:\n",
      "0.2765427825999168\n",
      "Weighted-F1 after additive smoothing:\n",
      "0.8533248080428245\n",
      "\n",
      "\n",
      "Micro-F1 before additive smoothing:\n",
      "0.29833333333333334\n",
      "Micro-F1 after additive smoothing:\n",
      "0.8516666666666667\n"
     ]
    }
   ],
   "source": [
    "print(\"Accuracy before additive smoothing:\")\n",
    "calc_accuracy(probs)\n",
    "print(\"Accuracy after additive smoothing:\")\n",
    "calc_accuracy(probs_AS)\n",
    "print(\"\\n\")\n",
    "\n",
    "print(\"Macro-F1 before additive smoothing:\")\n",
    "calc_macroF1(F1s)\n",
    "print(\"Macro-F1 after additive smoothing:\")\n",
    "calc_macroF1(F1s_AS)\n",
    "print(\"\\n\")\n",
    "\n",
    "print(\"Weighted-F1 before additive smoothing:\")\n",
    "calc_weightedF1(probs, F1s)\n",
    "print(\"Weighted-F1 after additive smoothing:\")\n",
    "calc_weightedF1(probs_AS, F1s_AS)\n",
    "print(\"\\n\")\n",
    "\n",
    "print(\"Micro-F1 before additive smoothing:\")\n",
    "calc_microF1(probs)\n",
    "print(\"Micro-F1 after additive smoothing:\")\n",
    "calc_microF1(probs_AS)"
   ]
  },
  {
   "cell_type": "markdown",
   "metadata": {},
   "source": [
    "<div dir=\"rtl\">\n",
    "    <h5 style=\"line-height: 20pt;\">۱۱)</h5>\n",
    "    <h4 style=\"font-weight: 600;\">بررسی و تحلیل نتایج:</h4>\n",
    "    <h5 style=\"line-height: 20pt;\">همانطور که مشاهده می شود، استفاده از additive smoothing معیار های ارزیابی کلی(macro-F1, accuracy) را به شدت افزایش می دهد. همچنین معیار های ارزیابی مربوط به هر کلاس نیز تغییر می کنند. بیشترین این تغییرات در recall و F1-score مشاهده می شوند که منطقی است. چراکه recall معیاری است که میزان نزدیکی مدل ما به واقعیت را می سنجد و از آنجایی که additive smoothing مدل را به واقعیت نزدیکتر می کند، recall افزایش خوبی دارد. F1-score هم به recall وابسته است و با افزایش آن افزایش می یابد(با توجه به اینکه precision تغییر زیادی نداشته.). اما precision تغییر چشمگیری نکرده و بعضی وقت ها کمتر هم شده. دلیل این اتفاق را می توان همان مثال بیان شده در سوال هفت بیان کرد. precision نسبت درست ها در پیش بینی های خودمان را می سنجد و کاری به آگهی هایی که به صورت اشتباه دسته بندی شده اند ندارد. این حرکت ممکن است precision را افزایش بدهد، اما recall را کاهش می دهد.</h5>\n",
    "    <h5 style=\"line-height: 20pt;\">همانطور که مشخص است، همانطور که انتظار داشتیم micro-F1 و accuracy با هم برابر هستند.</h5>\n",
    "    <h4 style=\"font-weight: 600;\">بررسی های مربوط به اجرا های متوالی</h4>\n",
    "    <h5 style=\"line-height: 20pt;\">برخی از نرمالسازی ها میزان accuracy و F1 را کاهش می دادند که بخش نرمالسازی کامنت شده اند.</h5>\n",
    "    <h5 style=\"line-height: 20pt;\">حذف کلمات بدست آمده در بخش بررسی صحت باعث افزایش accuracy و F1 شد.</h5>\n",
    "</div>"
   ]
  },
  {
   "cell_type": "markdown",
   "metadata": {},
   "source": [
    "<div dir=\"rtl\">\n",
    "    <h5 style=\"line-height: 20pt;\">۱۲)</h5>\n",
    "    <img src=\"./images/mismatch.png\" />\n",
    "    <h5 style=\"line-height: 20pt;\">در برخی موارد مانند مورد اول، اگر توکن ها را به جای monogram به bigram تغییر می دادیم، ممکن بود نتیجه بهتری بگیریم. چراکه با بررسی داده ها متوجه می شویم کلمه دوربین بیشتر در بخش leisure-hobbies امده است. در حالیکه منظور از بیشتر این دوربین ها دوربین عکاسی بوده و نه دوربین تک چشم و به همین علت این آگهی اشتباه دسته بندی شده است.</h5>\n",
    "    <h5 style=\"line-height: 20pt;\">در بقیه آگهی ها بخش زیادی از خطای رخ داده به این علت است که کلماتی که به صورت کلی به کلاس خاصی اشاره نمی کردند در محاسبات ما برای تشخیص کلاس دخیل بوده اند. به عنوان مثال کلمه ٬عمده٬ در کلاس businesses تکرار زیادی داشته است که باعث شده است مورد سوم از mismatch ها اتفاق بیوفتد. در حالیکه این شاید احتمال اینکه آگهی ای که کلمه ٬عمده٬ در خود دارد به دسته businesses تعلق داشته باشد به صورت شهودی هم بیشتر باشد، اما این احتمال نباید به حدی زیاد شود که اطلاعاتی مانند اینکه کلمه ٬تزیینی٬ تقریبا همیشه متعلق به دسته for-the-home است نادیده گرفته شود. در برای جلوگیری از این اتفاق می توانیم یا مانند بخش پلاتها، کلمات پرتکرار بیشتری را در نظر بگیریم یا به آنها وزن کمتری اختصاص بدهیم.  </h5>\n",
    "    <h5 style=\"line-height: 20pt;\">به صورت کلی کلمات زیادی می توانند در آگهی ها وجود داشته باشند که به دسته خاصی اشاره نکنند و به تصادف در یکی از دسته ها تکرار بیشتری در یک کلاس داشته باشند. کلماتی مانند ٬درجه یک٬، ٬شیک٬ و ٬مدل٬ و .... ما در مدل خود بسیاری از این کلمات را حذف نکردیم که در مواردی منجر به تشخیص های اشتباه شد. در برخی موارد نیز، واژه های انگلیسی یا اعداد به توضیحات چسبیده بودند که در صورت جدا شدن و تشخیص درست کلمه اصلی،‌ مدل ما بهتر خواهد شد.</h5>\n",
    "</div>"
   ]
  },
  {
   "cell_type": "markdown",
   "metadata": {},
   "source": [
    "<div dir=\"rtl\">\n",
    "    <h2  dir=\"rtl\" style=\"color: #cf133e; font-weight: 600;\">نتیجه گیری:</h2>\n",
    "    <h5>در این پروژه با استفاده از naive bayes توانستیم یک مساله دسته بندی را حل کنیم و تاثیر شیوه های مختلف پیش پردازش را بر میزان دقت مدل خود یاد گرفتیم.</h5>\n",
    "    <h5 style=\"line-height: 20pt;\">در این پروژه یاد گرفتیم که با استفاده از naive bayes می توان مسائل دسته بندی را حل کرد و تاثیر شیوه های مختلف پیش پردازش را بر و محاسبه احتمال را بر میزان دقت مدل خود دیدیم. می توان نتیجه گیری کرد که شیوه additive smoothing شیوه بسیار مناسبتری نسبت به محاسبه احتمال بیزی به صورت عادی است و همچنین پیش پردازش با دید درست به داده ها می تواند تاثیر به سزایی در دقت مدل داشته باشد.</h5>\n",
    "</div>"
   ]
  },
  {
   "cell_type": "markdown",
   "metadata": {},
   "source": [
    "<div dir=\"rtl\">\n",
    "    <h2  dir=\"rtl\" style=\"color: #cf133e; font-weight: 600;\">پیشنهادات:</h2>\n",
    "    <h5>پیشنهادی ندارم. همه چیز عالی بود.</h5>\n",
    "</div>"
   ]
  },
  {
   "cell_type": "markdown",
   "metadata": {},
   "source": [
    "<h3 style=\"color: #2b9978; font-weight: 600;\">Resources:</h3>\n",
    "<pre>\n",
    "Stemming and Lemmatization: https://www.youtube.com/watch?v=JpxCt3kvbLk\n",
    "Bag of Words: https://www.youtube.com/watch?v=IKgBLTeQQL8&t=31s\n",
    "Stemming vs Lemmatization: https://towardsdatascience.com/stemming-vs-lemmatization-2daddabcb221\n",
    "Posterior probability: https://www.investopedia.com/terms/p/posterior-probability.asp\n",
    "Prior probability: https://www.investopedia.com/terms/p/posterior-probability.asp\n",
    "evidence: https://stats.stackexchange.com/questions/450865/in-bayesian-inference-why-is-pd-sometimes-called-the-evidence\n",
    "accuracy, precision, recall, F1: https://www.google.com/url?sa=t&rct=j&q=&esrc=s&source=video&cd=&cad=rja&uact=8&ved=2ahUKEwiY1-6nzLn0AhUXiv0HHaVSDuUQtwJ6BAgJEAI&url=https%3A%2F%2Fwww.youtube.com%2Fwatch%3Fv%3D2osIZ-dSPGE&usg=AOvVaw3GAjY3_n_OCi9s1vBTCta2\n",
    "F1: https://en.wikipedia.org/wiki/Harmonic_mean\n",
    "resources mentioned in report\n",
    "</pre>"
   ]
  }
 ],
 "metadata": {
  "interpreter": {
   "hash": "916dbcbb3f70747c44a77c7bcd40155683ae19c65e1c03b4aa3499c5328201f1"
  },
  "kernelspec": {
   "display_name": "Python 3.8.10 64-bit",
   "language": "python",
   "name": "python3"
  },
  "language_info": {
   "codemirror_mode": {
    "name": "ipython",
    "version": 3
   },
   "file_extension": ".py",
   "mimetype": "text/x-python",
   "name": "python",
   "nbconvert_exporter": "python",
   "pygments_lexer": "ipython3",
   "version": "3.8.10"
  },
  "orig_nbformat": 4
 },
 "nbformat": 4,
 "nbformat_minor": 2
}
